{
 "cells": [
  {
   "cell_type": "code",
   "execution_count": 266,
   "metadata": {},
   "outputs": [],
   "source": [
    "iinput1 = \"23.5,24.5,25.5,26.5,27.5,28.3\"\n",
    "iinput2 = \"0\"\n",
    "iinput3 = \"0\""
   ]
  },
  {
   "cell_type": "code",
   "execution_count": 267,
   "metadata": {},
   "outputs": [],
   "source": [
    "iinput1 = \"23.5,21.3,33.2,24.5,22.7,18.5,19.8,31.2,44.9,22.5\"\n",
    "iinput2 = \"2\"\n",
    "iinput3 = \"2\""
   ]
  },
  {
   "cell_type": "code",
   "execution_count": 268,
   "metadata": {},
   "outputs": [],
   "source": [
    "iinput1 =\"23.5,21.3,33.2,24.5,22.7,18.5,19.8,31.2,44.9,22.5\"\n",
    "iinput2 = \"1\"\n",
    "iinput3 = \"1\""
   ]
  },
  {
   "cell_type": "code",
   "execution_count": 269,
   "metadata": {},
   "outputs": [],
   "source": [
    "iinput1 = \"10.3,0.2,1.2,2.3,3.4,4.5,4.6,4.7\"\n",
    "iinput2 = \"1\"\n",
    "iinput3 = \"6\""
   ]
  },
  {
   "cell_type": "code",
   "execution_count": 270,
   "metadata": {},
   "outputs": [],
   "source": [
    "# iipput1 = input()\n",
    "# iinput2 = input()\n",
    "# iinput3 = input()\n"
   ]
  },
  {
   "cell_type": "code",
   "execution_count": 271,
   "metadata": {},
   "outputs": [],
   "source": [
    "waterlevel = [float(i) for i in iinput1.split(',')]\n",
    "k1 = float(iinput2) \n",
    "k2 = float(iinput3)\n",
    "\n",
    "if k1<1:\n",
    "    k1 =2\n",
    "\n",
    "if k2<1:\n",
    "    k2 =2\n",
    "\n",
    "\n",
    "\n"
   ]
  },
  {
   "cell_type": "code",
   "execution_count": 272,
   "metadata": {},
   "outputs": [],
   "source": [
    "def is絕對遞增(llist):\n",
    "    for i in range(1,len(llist)):\n",
    "        if(llist[i-1]>=llist[i]):\n",
    "            return False\n",
    "        \n",
    "    return True\n",
    "\n",
    "def is絕對遞減(llist):\n",
    "    for i in range(1,len(llist)):\n",
    "        if(llist[i-1]<=llist[i]):\n",
    "            return False\n",
    "        \n",
    "    return True"
   ]
  },
  {
   "cell_type": "code",
   "execution_count": 273,
   "metadata": {},
   "outputs": [
    {
     "data": {
      "text/plain": [
       "[1]"
      ]
     },
     "execution_count": 273,
     "metadata": {},
     "output_type": "execute_result"
    }
   ],
   "source": [
    "answer = []\n",
    "for i in range(0,len(waterlevel)):\n",
    "    遞減uppbound = int( i+1)\n",
    "    遞減llowerbound =int( max(0,i-k1) )\n",
    "\n",
    "    遞增uppbound  = int( min(i+k2+1,len(waterlevel)))\n",
    "    遞增llowerbound = int( i ) \n",
    "    \n",
    "    # print(i, 遞減uppbound,遞減llowerbound)\n",
    "    # print(i,遞增uppbound,遞增llowerbound)\n",
    "    if(is絕對遞增(waterlevel[遞增llowerbound:遞增uppbound]) == True \n",
    "       and is絕對遞減(waterlevel[遞減llowerbound:遞減uppbound]) == True):\n",
    "        if(i-k1 < 0):\n",
    "            continue\n",
    "        if(i+k2+1 > len(waterlevel)):\n",
    "            continue\n",
    "        answer.append(i)\n",
    "answer"
   ]
  },
  {
   "cell_type": "code",
   "execution_count": 274,
   "metadata": {},
   "outputs": [
    {
     "name": "stdout",
     "output_type": "stream",
     "text": [
      "1\n"
     ]
    }
   ],
   "source": [
    "if len(answer)==0 :\n",
    "    print('NA')\n",
    "else:\n",
    "    for ele in answer:\n",
    "        print(ele)"
   ]
  },
  {
   "cell_type": "code",
   "execution_count": 275,
   "metadata": {},
   "outputs": [
    {
     "data": {
      "text/plain": [
       "True"
      ]
     },
     "execution_count": 275,
     "metadata": {},
     "output_type": "execute_result"
    }
   ],
   "source": [
    "# is絕對遞減(waterlevel[0:2])\n",
    "is絕對遞增(waterlevel[1:8])\n"
   ]
  },
  {
   "cell_type": "code",
   "execution_count": 276,
   "metadata": {},
   "outputs": [
    {
     "data": {
      "text/plain": [
       "[0.2, 1.2, 2.3, 3.4, 4.5, 4.6, 4.7]"
      ]
     },
     "execution_count": 276,
     "metadata": {},
     "output_type": "execute_result"
    }
   ],
   "source": [
    "10,0 ,1,2,3,4,4,4\n",
    "waterlevel[1:]"
   ]
  },
  {
   "cell_type": "code",
   "execution_count": 277,
   "metadata": {},
   "outputs": [
    {
     "name": "stderr",
     "output_type": "stream",
     "text": [
      "[NbConvertApp] Converting notebook midterm2.ipynb to script\n",
      "[NbConvertApp] Writing 1788 bytes to midterm2.py\n"
     ]
    }
   ],
   "source": [
    "!jupyter nbconvert --to script midterm2.ipynb"
   ]
  }
 ],
 "metadata": {
  "kernelspec": {
   "display_name": "Python 3",
   "language": "python",
   "name": "python3"
  },
  "language_info": {
   "codemirror_mode": {
    "name": "ipython",
    "version": 3
   },
   "file_extension": ".py",
   "mimetype": "text/x-python",
   "name": "python",
   "nbconvert_exporter": "python",
   "pygments_lexer": "ipython3",
   "version": "3.12.1"
  }
 },
 "nbformat": 4,
 "nbformat_minor": 2
}
