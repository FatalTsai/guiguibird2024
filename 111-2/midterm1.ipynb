{
 "cells": [
  {
   "cell_type": "code",
   "execution_count": 70,
   "metadata": {},
   "outputs": [],
   "source": [
    "import re"
   ]
  },
  {
   "cell_type": "code",
   "execution_count": 71,
   "metadata": {},
   "outputs": [],
   "source": [
    "百家姓 = '陳林黃張李王吳劉蔡楊許鄭謝郭洪曾邱廖賴周徐蘇葉莊呂江何蕭羅高簡朱鍾施游詹沈彭胡余盧潘顏梁趙柯翁魏方孫戴范宋鄧杜侯曹薛傅丁溫紀蔣歐藍連唐馬董石卓程姚康馮古姜湯汪白田涂鄒巫尤鐘龔嚴韓黎阮袁童陸金錢邵'\n",
    "綴詞列表 =['先生','小姐','姓']"
   ]
  },
  {
   "cell_type": "code",
   "execution_count": 72,
   "metadata": {},
   "outputs": [],
   "source": [
    "iinput = '黃姓記者表示：昨日，一家位於市中心的銀行被一伙歹徒搶劫。據警方報告，這伙歹徒是由五個陳姓男子、兩個林姓男子和七個黃姓女子組成的。搶劫發生時，銀行內只有幾名員工和幾名顧客。警方表示，這伙歹徒經過周密計劃，利用先前在銀行內工作的一名黃姓女子的幫助，成功地打開了銀行保險箱並搶走了大量現金和貴重物品。在搶劫過程中，他們使用了槍支和刀具，並對銀行內的員工和顧客進行了威脅和攻擊。當地警方接到報案後立即展開調查，通過監視器的錄像和目擊者提供的線索，成功地鎖定了這伙歹徒的身份。在警方的大力打擊下，其中一名姓陳的男子在逃亡途中被捕，並向警方供出了整個犯罪集團的情況和躲藏地點。隨後，警方成功地逮捕了其他幾名犯罪嫌疑人。目前，這伙搶劫犯罪集團已被依法拘留，案件正在進一步調查之中。市民們紛紛對警方的迅速反應和有效打擊表示贊揚，並期望警方能夠繼續加強打擊犯罪的力度，維護社會的安全和穩定。對此，一名姓林的市民表示：「真是太安心了！」'"
   ]
  },
  {
   "cell_type": "code",
   "execution_count": 73,
   "metadata": {},
   "outputs": [
    {
     "data": {
      "text/plain": [
       "[0, 42, 49, 56, 114, 246, 390, 2, 44, 51, 58, 116, 248, 392]"
      ]
     },
     "execution_count": 73,
     "metadata": {},
     "output_type": "execute_result"
    }
   ],
   "source": [
    "單姓位置 = []\n",
    "\n",
    "for i in 綴詞列表:\n",
    "    iter = re.finditer( i  , iinput)\n",
    "    indices = [m.start(0)-1 for m in iter]\n",
    "    單姓位置+= indices\n",
    "    iter = re.finditer( i  , iinput)\n",
    "    indices = [m.start(0)+1 for m in iter]\n",
    "    單姓位置+= indices\n",
    "\n",
    "單姓位置"
   ]
  },
  {
   "cell_type": "code",
   "execution_count": 74,
   "metadata": {},
   "outputs": [
    {
     "data": {
      "text/plain": [
       "['黃', '陳', '林', '黃', '黃', '陳', '林']"
      ]
     },
     "execution_count": 74,
     "metadata": {},
     "output_type": "execute_result"
    }
   ],
   "source": [
    "百姓才會出現的單姓 = []\n",
    "\n",
    "for ele in 單姓位置:\n",
    "    if(iinput[ele] in 百家姓):\n",
    "        百姓才會出現的單姓.append(iinput[ele])\n",
    "百姓才會出現的單姓"
   ]
  },
  {
   "cell_type": "code",
   "execution_count": 75,
   "metadata": {},
   "outputs": [],
   "source": [
    "# 統計各個元素所用\n",
    "\n",
    "x= [百姓才會出現的單姓.count(i) for i in set(百姓才會出現的單姓)]\n",
    "y = set(百姓才會出現的單姓)\n",
    "\n",
    "\n",
    "\n",
    "\n",
    "lastnameTofreq = dict(zip(y,x))"
   ]
  },
  {
   "cell_type": "code",
   "execution_count": 76,
   "metadata": {},
   "outputs": [
    {
     "data": {
      "text/plain": [
       "[1, 0, 2]"
      ]
     },
     "execution_count": 76,
     "metadata": {},
     "output_type": "execute_result"
    }
   ],
   "source": [
    "lastnameToindex = []\n",
    "for i in y:\n",
    "    lastnameToindex.append(百家姓.index(i))\n",
    "lastnameToindex"
   ]
  },
  {
   "cell_type": "code",
   "execution_count": 77,
   "metadata": {},
   "outputs": [
    {
     "name": "stdout",
     "output_type": "stream",
     "text": [
      "林 2 1\n",
      "陳 2 0\n",
      "黃 3 2\n"
     ]
    },
    {
     "data": {
      "text/plain": [
       "[['林', 2, 1], ['陳', 2, 0], ['黃', 3, 2]]"
      ]
     },
     "execution_count": 77,
     "metadata": {},
     "output_type": "execute_result"
    }
   ],
   "source": [
    "最後的資料結構 = []\n",
    "\n",
    "for i in range(len(lastnameToindex)):\n",
    "    print(list(lastnameTofreq.keys())[i] , list(lastnameTofreq.values())[i]  ,lastnameToindex[i] )\n",
    "    最後的資料結構.append([list(lastnameTofreq.keys())[i] , list(lastnameTofreq.values())[i]  ,lastnameToindex[i] ])\n",
    "最後的資料結構    "
   ]
  },
  {
   "cell_type": "code",
   "execution_count": 78,
   "metadata": {},
   "outputs": [],
   "source": [
    "最後的資料結構 = sorted(最後的資料結構,key=lambda data:(-data[1],data[2]))"
   ]
  },
  {
   "cell_type": "code",
   "execution_count": 80,
   "metadata": {},
   "outputs": [
    {
     "name": "stdout",
     "output_type": "stream",
     "text": [
      "黃:3\n",
      "陳:2\n",
      "林:2\n"
     ]
    }
   ],
   "source": [
    "for ele in 最後的資料結構:\n",
    "    print(f'{ele[0]}:{ele[1]}')"
   ]
  },
  {
   "cell_type": "code",
   "execution_count": 81,
   "metadata": {},
   "outputs": [
    {
     "name": "stderr",
     "output_type": "stream",
     "text": [
      "[NbConvertApp] Converting notebook midterm1.ipynb to script\n",
      "[NbConvertApp] Writing 1752 bytes to midterm1.py\n"
     ]
    }
   ],
   "source": [
    "!jupyter nbconvert --to script midterm1.ipynb"
   ]
  },
  {
   "cell_type": "markdown",
   "metadata": {},
   "source": []
  }
 ],
 "metadata": {
  "kernelspec": {
   "display_name": "Python 3",
   "language": "python",
   "name": "python3"
  },
  "language_info": {
   "codemirror_mode": {
    "name": "ipython",
    "version": 3
   },
   "file_extension": ".py",
   "mimetype": "text/x-python",
   "name": "python",
   "nbconvert_exporter": "python",
   "pygments_lexer": "ipython3",
   "version": "3.12.1"
  }
 },
 "nbformat": 4,
 "nbformat_minor": 2
}
